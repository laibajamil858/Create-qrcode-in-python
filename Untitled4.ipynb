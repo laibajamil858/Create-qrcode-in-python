{
 "cells": [
  {
   "cell_type": "code",
   "execution_count": 1,
   "id": "f4f22bb2",
   "metadata": {},
   "outputs": [
    {
     "name": "stdout",
     "output_type": "stream",
     "text": [
      "Collecting pyqrcode\n",
      "  Downloading PyQRCode-1.2.1.zip (41 kB)\n",
      "Building wheels for collected packages: pyqrcode\n",
      "  Building wheel for pyqrcode (setup.py): started\n",
      "  Building wheel for pyqrcode (setup.py): finished with status 'done'\n",
      "  Created wheel for pyqrcode: filename=PyQRCode-1.2.1-py3-none-any.whl size=36245 sha256=562ae482fe12f56969ef968f94c0212d06b5a2925805a077272ac23047eda93d\n",
      "  Stored in directory: c:\\users\\s s c\\appdata\\local\\pip\\cache\\wheels\\da\\75\\c0\\38c7f82750de2725429b6b8571dca254249d73f6c882c5d9b1\n",
      "Successfully built pyqrcode\n",
      "Installing collected packages: pyqrcode\n",
      "Successfully installed pyqrcode-1.2.1\n"
     ]
    }
   ],
   "source": [
    "! pip install pyqrcode"
   ]
  },
  {
   "cell_type": "code",
   "execution_count": 4,
   "id": "9179ba80",
   "metadata": {},
   "outputs": [
    {
     "name": "stdout",
     "output_type": "stream",
     "text": [
      "Collecting pypng\n",
      "  Downloading pypng-0.0.21-py3-none-any.whl (48 kB)\n",
      "Installing collected packages: pypng\n",
      "Successfully installed pypng-0.0.21\n"
     ]
    }
   ],
   "source": [
    "! pip install pypng"
   ]
  },
  {
   "cell_type": "code",
   "execution_count": 5,
   "id": "78f07978",
   "metadata": {},
   "outputs": [
    {
     "name": "stdout",
     "output_type": "stream",
     "text": [
      "Code Execute properly\n"
     ]
    }
   ],
   "source": [
    "import pyqrcode\n",
    "import png\n",
    "def qr_code():\n",
    "  s = 'Huawei Talent Online'\n",
    "  d = pyqrcode.create(s)\n",
    "  d.png('my_img.png', scale=6)\n",
    "  print('Code Execute properly')\n",
    "\n",
    "if __name__=='__main__':\n",
    "  qr_code()"
   ]
  },
  {
   "cell_type": "code",
   "execution_count": null,
   "id": "6bb11fbd",
   "metadata": {},
   "outputs": [],
   "source": []
  }
 ],
 "metadata": {
  "kernelspec": {
   "display_name": "Python 3 (ipykernel)",
   "language": "python",
   "name": "python3"
  },
  "language_info": {
   "codemirror_mode": {
    "name": "ipython",
    "version": 3
   },
   "file_extension": ".py",
   "mimetype": "text/x-python",
   "name": "python",
   "nbconvert_exporter": "python",
   "pygments_lexer": "ipython3",
   "version": "3.9.7"
  }
 },
 "nbformat": 4,
 "nbformat_minor": 5
}
